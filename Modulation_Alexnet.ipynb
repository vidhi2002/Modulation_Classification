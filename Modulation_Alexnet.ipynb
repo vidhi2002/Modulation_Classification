{
 "cells": [
  {
   "cell_type": "code",
   "execution_count": 1,
   "id": "4994ffc2",
   "metadata": {},
   "outputs": [],
   "source": [
    "import os,random\n",
    "os.environ[\"KERAS_BACKEND\"] = \"tensorflow\"\n",
    "import math\n",
    "import numpy as np\n",
    "import matplotlib.pyplot as plt\n",
    "import random, sys, keras\n",
    "from keras.utils import np_utils\n",
    "import keras.models as models\n",
    "from keras.layers.core import Reshape,Dense,Dropout,Activation,Flatten\n",
    "from keras.layers.noise import GaussianNoise\n",
    "from keras.layers.convolutional import Conv2D, MaxPooling2D, ZeroPadding2D\n",
    "from keras.regularizers import *\n",
    "from tensorflow.keras.optimizers import Adam\n"
   ]
  },
  {
   "cell_type": "code",
   "execution_count": 2,
   "id": "262d5b94",
   "metadata": {},
   "outputs": [],
   "source": [
    "import math\n",
    "import numpy as np\n",
    "import random, sys\n",
    "import matplotlib.pyplot as plt\n",
    "import _pickle as cPickle"
   ]
  },
  {
   "cell_type": "code",
   "execution_count": 3,
   "id": "c84d8883",
   "metadata": {},
   "outputs": [
    {
     "name": "stdout",
     "output_type": "stream",
     "text": [
      "Dataset imported\n"
     ]
    }
   ],
   "source": [
    "# Load the dataset\n",
    "#  from a certain local path\n",
    "Xd = cPickle.load(open(\"RML2016.10a_dict.pkl\",'rb'), encoding='latin1')\n",
    "print(\"Dataset imported\")\n",
    "snrs,mods = map(lambda j: sorted(list(set(map(lambda x: x[j], Xd.keys())))), [1,0])\n",
    "X = []  \n",
    "lbl = []\n",
    "for mod in mods:\n",
    "    for snr in snrs:\n",
    "        X.append(Xd[(mod,snr)])\n",
    "        for i in range(Xd[(mod,snr)].shape[0]):\n",
    "            lbl.append((mod,snr))\n",
    "\n",
    "X = np.vstack(X)"
   ]
  },
  {
   "cell_type": "code",
   "execution_count": 4,
   "id": "4fe67d92",
   "metadata": {},
   "outputs": [
    {
     "name": "stdout",
     "output_type": "stream",
     "text": [
      "Dataset formatted into shape:  (220000, 2, 128)\n",
      "Dataset with SNRs:  [-20, -18, -16, -14, -12, -10, -8, -6, -4, -2, 0, 2, 4, 6, 8, 10, 12, 14, 16, 18]\n",
      "Dataset with Modulations:  ['8PSK', 'AM-DSB', 'AM-SSB', 'BPSK', 'CPFSK', 'GFSK', 'PAM4', 'QAM16', 'QAM64', 'QPSK', 'WBFM']\n",
      "Data prepared\n"
     ]
    }
   ],
   "source": [
    "# For dataset RML2016.10a_dict, we should have data size 220000*2*128\n",
    "print (\"Dataset formatted into shape: \",X.shape)\n",
    "# print out the snrs and mods\n",
    "print (\"Dataset with SNRs: \",snrs)\n",
    "print (\"Dataset with Modulations: \",mods)\n",
    "print (\"Data prepared\")\n"
   ]
  },
  {
   "cell_type": "code",
   "execution_count": 5,
   "id": "615cfe7d",
   "metadata": {},
   "outputs": [],
   "source": [
    "# Partition the data\n",
    "#  into training and test sets of the form we can train/test on \n",
    "#  while keeping SNR and Mod labels handy for each\n",
    "np.random.seed(2017)\n",
    "n_examples = X.shape[0]\n",
    "n_train = int(n_examples * 0.5)\n",
    "train_idx = np.random.choice(range(0,n_examples), size=n_train, replace=False)\n",
    "test_idx = list(set(range(0,n_examples))-set(train_idx))\n",
    "X_train = X[train_idx]\n",
    "X_test =  X[test_idx]"
   ]
  },
  {
   "cell_type": "code",
   "execution_count": 6,
   "id": "004d7ef9",
   "metadata": {},
   "outputs": [],
   "source": [
    "def to_onehot(yy):\n",
    "    yy1 = np.zeros([len(yy), max(yy)+1])\n",
    "    yy1[np.arange(len(yy)),yy] = 1\n",
    "    return yy1"
   ]
  },
  {
   "cell_type": "code",
   "execution_count": 7,
   "id": "28192d8b",
   "metadata": {},
   "outputs": [],
   "source": [
    "trainy =list(map(lambda x: mods.index(lbl[x][0]), train_idx))\n",
    "Y_train = to_onehot(trainy)\n",
    "Y_test = to_onehot(list(map(lambda x: mods.index(lbl[x][0]), test_idx)))"
   ]
  },
  {
   "cell_type": "code",
   "execution_count": 8,
   "id": "a4dfa0a7",
   "metadata": {},
   "outputs": [],
   "source": [
    "in_shp = list(X_train.shape[1:])\n",
    "# print X_train.shape, in_shp\n",
    "classes = mods\n"
   ]
  },
  {
   "cell_type": "code",
   "execution_count": 9,
   "id": "5dd1037b",
   "metadata": {},
   "outputs": [],
   "source": [
    "# Set up some params\n",
    "nb_epoch = 100     # number of epochs to train on\n",
    "batch_size = 1024  # training batch size\n",
    "dr = 0.4 # dropout rate (%)"
   ]
  },
  {
   "cell_type": "code",
   "execution_count": 10,
   "id": "919cbb66",
   "metadata": {},
   "outputs": [
    {
     "name": "stdout",
     "output_type": "stream",
     "text": [
      "Model: \"sequential\"\n",
      "_________________________________________________________________\n",
      " Layer (type)                Output Shape              Param #   \n",
      "=================================================================\n",
      " reshape (Reshape)           (None, 2, 128, 1)         0         \n",
      "                                                                 \n",
      " zero_padding2d (ZeroPadding  (None, 2, 132, 1)        0         \n",
      " 2D)                                                             \n",
      "                                                                 \n",
      " conv2d (Conv2D)             (None, 2, 129, 64)        320       \n",
      "                                                                 \n",
      " dropout (Dropout)           (None, 2, 129, 64)        0         \n",
      "                                                                 \n",
      " conv2d_1 (Conv2D)           (None, 1, 126, 64)        32832     \n",
      "                                                                 \n",
      " dropout_1 (Dropout)         (None, 1, 126, 64)        0         \n",
      "                                                                 \n",
      " conv2d_2 (Conv2D)           (None, 1, 119, 128)       65664     \n",
      "                                                                 \n",
      " dropout_2 (Dropout)         (None, 1, 119, 128)       0         \n",
      "                                                                 \n",
      " conv2d_3 (Conv2D)           (None, 1, 112, 128)       131200    \n",
      "                                                                 \n",
      " dropout_3 (Dropout)         (None, 1, 112, 128)       0         \n",
      "                                                                 \n",
      " conv2d_4 (Conv2D)           (None, 1, 105, 128)       131200    \n",
      "                                                                 \n",
      " dropout_4 (Dropout)         (None, 1, 105, 128)       0         \n",
      "                                                                 \n",
      " flatten (Flatten)           (None, 13440)             0         \n",
      "                                                                 \n",
      " dense (Dense)               (None, 256)               3440896   \n",
      "                                                                 \n",
      " dropout_5 (Dropout)         (None, 256)               0         \n",
      "                                                                 \n",
      " dense_1 (Dense)             (None, 11)                2827      \n",
      "                                                                 \n",
      " reshape_1 (Reshape)         (None, 11)                0         \n",
      "                                                                 \n",
      "=================================================================\n",
      "Total params: 3,804,939\n",
      "Trainable params: 3,804,939\n",
      "Non-trainable params: 0\n",
      "_________________________________________________________________\n"
     ]
    }
   ],
   "source": [
    "model = models.Sequential()\n",
    "model.add(Reshape(in_shp+[1], input_shape=in_shp))\n",
    "model.add(ZeroPadding2D((0,2)))\n",
    "# 1st Convolutional Layer\n",
    "model.add(Conv2D(64, (1,4), activation=\"relu\"))\n",
    "model.add(Dropout(dr))\n",
    "# 2nd Convolutional Layer\n",
    "model.add(Conv2D(64, (2,4), activation=\"relu\")) \n",
    "model.add(Dropout(dr))\n",
    "# 3rd Convolutional Layer\n",
    "model.add(Conv2D(128, (1,8), activation=\"relu\"))\n",
    "model.add(Dropout(dr))\n",
    "# 4th Convolutional Layer\n",
    "model.add(Conv2D(128, (1,8), activation=\"relu\"))\n",
    "model.add(Dropout(dr))\n",
    "# 5th Convolutional Layer\n",
    "model.add(Conv2D(128, (1,8), activation=\"relu\"))\n",
    "model.add(Dropout(dr))\n",
    " \n",
    "# Flattening\n",
    "model.add(Flatten())\n",
    "  \n",
    "# 1st Dense Layer\n",
    "model.add(Dense(256, activation='relu'))\n",
    "model.add(Dropout(dr))\n",
    "  \n",
    "# Output Softmax Layer\n",
    "model.add(Dense(len(classes), activation='softmax'))\n",
    "model.add(Reshape([len(classes)]))\n",
    "model.compile(loss='categorical_crossentropy', optimizer='adam', metrics=['accuracy'])\n",
    "model.summary()"
   ]
  },
  {
   "cell_type": "code",
   "execution_count": 11,
   "id": "ec682eee",
   "metadata": {},
   "outputs": [],
   "source": [
    "# Set up some params \n",
    "epochs = 11     \n",
    "batch_size = 1024  "
   ]
  },
  {
   "cell_type": "code",
   "execution_count": 12,
   "id": "4b27810a",
   "metadata": {},
   "outputs": [
    {
     "name": "stdout",
     "output_type": "stream",
     "text": [
      "Epoch 1/11\n",
      "108/108 - 1629s - loss: 2.1674 - accuracy: 0.1880 - val_loss: 1.9691 - val_accuracy: 0.2804 - 1629s/epoch - 15s/step\n",
      "Epoch 2/11\n",
      "108/108 - 1769s - loss: 1.8453 - accuracy: 0.3117 - val_loss: 1.7772 - val_accuracy: 0.3381 - 1769s/epoch - 16s/step\n",
      "Epoch 3/11\n",
      "108/108 - 2158s - loss: 1.6781 - accuracy: 0.3725 - val_loss: 1.6658 - val_accuracy: 0.3701 - 2158s/epoch - 20s/step\n",
      "Epoch 4/11\n",
      "108/108 - 1776s - loss: 1.5186 - accuracy: 0.4253 - val_loss: 1.4415 - val_accuracy: 0.4514 - 1776s/epoch - 16s/step\n",
      "Epoch 5/11\n",
      "108/108 - 2361s - loss: 1.3953 - accuracy: 0.4647 - val_loss: 1.4096 - val_accuracy: 0.4608 - 2361s/epoch - 22s/step\n",
      "Epoch 6/11\n",
      "108/108 - 2134s - loss: 1.3389 - accuracy: 0.4849 - val_loss: 1.3202 - val_accuracy: 0.4982 - 2134s/epoch - 20s/step\n",
      "Epoch 7/11\n",
      "108/108 - 1661s - loss: 1.3226 - accuracy: 0.4934 - val_loss: 1.3894 - val_accuracy: 0.4689 - 1661s/epoch - 15s/step\n",
      "Epoch 8/11\n",
      "108/108 - 20174s - loss: 1.3054 - accuracy: 0.4990 - val_loss: 1.2849 - val_accuracy: 0.5018 - 20174s/epoch - 187s/step\n",
      "Epoch 9/11\n",
      "108/108 - 2297s - loss: 1.2841 - accuracy: 0.5066 - val_loss: 1.2468 - val_accuracy: 0.5233 - 2297s/epoch - 21s/step\n",
      "Epoch 10/11\n",
      "108/108 - 1436s - loss: 1.2726 - accuracy: 0.5122 - val_loss: 1.2955 - val_accuracy: 0.5094 - 1436s/epoch - 13s/step\n",
      "Epoch 11/11\n",
      "108/108 - 1666s - loss: 1.2681 - accuracy: 0.5157 - val_loss: 1.3122 - val_accuracy: 0.4997 - 1666s/epoch - 15s/step\n"
     ]
    }
   ],
   "source": [
    "#%%\n",
    "filepath = \"layers.wts.h5\" \n",
    "history = model.fit(X_train,Y_train,batch_size=batch_size,epochs=epochs,verbose=2,validation_data=(X_test, Y_test),\n",
    "    callbacks = [ \n",
    "        keras.callbacks.ModelCheckpoint(filepath, monitor='val_loss', verbose=0, save_best_only=True, mode='auto'),\n",
    "        keras.callbacks.EarlyStopping(monitor='val_loss', patience=5, verbose=0, mode='auto')\n",
    "    ]) \n",
    "model.load_weights(filepath)\n"
   ]
  },
  {
   "cell_type": "code",
   "execution_count": 18,
   "id": "adb5cd33",
   "metadata": {},
   "outputs": [
    {
     "name": "stdout",
     "output_type": "stream",
     "text": [
      "[1.2468061447143555, 0.5233181715011597]\n"
     ]
    }
   ],
   "source": [
    "#%%\n",
    "score = model.evaluate(X_test, Y_test, verbose=0, batch_size=batch_size)\n",
    "print(score)"
   ]
  },
  {
   "cell_type": "code",
   "execution_count": 19,
   "id": "113d4a56",
   "metadata": {},
   "outputs": [],
   "source": [
    "def plot_confusion_matrix(cm, title='Confusion matrix', cmap=plt.cm.Blues, labels=[]):\n",
    "    plt.imshow(cm, interpolation='nearest', cmap=cmap)\n",
    "    plt.title(title)\n",
    "    plt.colorbar()\n",
    "    tick_marks = np.arange(len(labels))\n",
    "    plt.xticks(tick_marks, labels, rotation=45)\n",
    "    plt.yticks(tick_marks, labels)\n",
    "    plt.tight_layout()\n",
    "    plt.ylabel('True label')\n",
    "    plt.xlabel('Predicted label')"
   ]
  },
  {
   "cell_type": "code",
   "execution_count": 20,
   "id": "7a8f8d97",
   "metadata": {},
   "outputs": [
    {
     "data": {
      "image/png": "[encoded data removed]",
      "text/plain": [
       "<Figure size 432x288 with 2 Axes>"
      ]
     },
     "metadata": {
      "needs_background": "light"
     },
     "output_type": "display_data"
    }
   ],
   "source": [
    "# Plot confusion matrix for the whole dataset\n",
    "test_Y_hat = model.predict(X_test, batch_size=batch_size)\n",
    "conf = np.zeros([len(classes),len(classes)])\n",
    "confnorm = np.zeros([len(classes),len(classes)])\n",
    "for i in range(0,X_test.shape[0]):\n",
    "    j = list(Y_test[i,:]).index(1)\n",
    "    k = int(np.argmax(test_Y_hat[i,:]))\n",
    "    conf[j,k] = conf[j,k] + 1\n",
    "\n",
    "for i in range(0,len(classes)):\n",
    "    confnorm[i,:] = conf[i,:] / np.sum(conf[i,:])\n",
    "plot_confusion_matrix(confnorm, labels=classes)"
   ]
  },
  {
   "cell_type": "code",
   "execution_count": 22,
   "id": "079e599c",
   "metadata": {},
   "outputs": [
    {
     "name": "stdout",
     "output_type": "stream",
     "text": [
      "Overall Accuracy:  0.08877237389260531\n",
      "Overall Accuracy:  0.09215262778977681\n",
      "Overall Accuracy:  0.09672727272727273\n",
      "Overall Accuracy:  0.10937215650591446\n",
      "Overall Accuracy:  0.13544141838786328\n",
      "Overall Accuracy:  0.22002871500358936\n",
      "Overall Accuracy:  0.3243740795287187\n",
      "Overall Accuracy:  0.46942765730536795\n",
      "Overall Accuracy:  0.6006655574043261\n",
      "Overall Accuracy:  0.7120850907757198\n",
      "Overall Accuracy:  0.7555271331993422\n",
      "Overall Accuracy:  0.7571896614488532\n",
      "Overall Accuracy:  0.7701627486437613\n",
      "Overall Accuracy:  0.7610846463906192\n",
      "Overall Accuracy:  0.7633854645814168\n",
      "Overall Accuracy:  0.7710492816875796\n",
      "Overall Accuracy:  0.7594754805101491\n",
      "Overall Accuracy:  0.7644590403211093\n",
      "Overall Accuracy:  0.7598347404347046\n",
      "Overall Accuracy:  0.7671986791414419\n"
     ]
    },
    {
     "data": {
      "text/plain": [
       "Text(0.5, 1.0, 'CNN2 Classification Accuracy on RadioML 2016.10 Alpha')"
      ]
     },
     "execution_count": 22,
     "metadata": {},
     "output_type": "execute_result"
    },
    {
     "data": {
      "image/png": "[encoded data removed]",
      "text/plain": [
       "<Figure size 432x288 with 1 Axes>"
      ]
     },
     "metadata": {
      "needs_background": "light"
     },
     "output_type": "display_data"
    }
   ],
   "source": [
    "\n",
    "acc = {}\n",
    "for snr in snrs:\n",
    "\n",
    "    # extract classes @ SNR\n",
    "    test_SNRs = list(map(lambda x: lbl[x][1], test_idx))\n",
    "#    print(test_SNRs)\n",
    "    test_X_i = X_test[np.where(np.array(test_SNRs)==snr)]\n",
    "    test_Y_i = Y_test[np.where(np.array(test_SNRs)==snr)]    \n",
    "\n",
    "    # estimate classes\n",
    "    test_Y_i_hat = model.predict(test_X_i)\n",
    "    conf = np.zeros([len(classes),len(classes)])\n",
    "    confnorm = np.zeros([len(classes),len(classes)])\n",
    "    for i in range(0,test_X_i.shape[0]):\n",
    "        j = list(test_Y_i[i,:]).index(1)\n",
    "        k = int(np.argmax(test_Y_i_hat[i,:]))\n",
    "        conf[j,k] = conf[j,k] + 1\n",
    "    for i in range(0,len(classes)):\n",
    "        confnorm[i,:] = conf[i,:] / np.sum(conf[i,:])\n",
    "    #plt.figure()\n",
    "    #plot_confusion_matrix(confnorm, labels=classes, title=\"ConvNet Confusion Matrix (SNR=%d)\"%(snr))\n",
    "    \n",
    "    cor = np.sum(np.diag(conf))\n",
    "    ncor = np.sum(conf) - cor\n",
    "    print (\"Overall Accuracy: \", cor / (cor+ncor))\n",
    "    acc[snr] = 1.0*cor/(cor+ncor)\n",
    "#%%\n",
    "# Plot accuracy curve\n",
    "plt.plot(snrs, list(map(lambda x: acc[x], snrs)))\n",
    "plt.xlabel(\"Signal to Noise Ratio\")\n",
    "plt.ylabel(\"Classification Accuracy\")\n",
    "plt.title(\"CNN2 Classification Accuracy on RadioML 2016.10 Alpha\")"
   ]
  }
 ],
 "metadata": {
  "kernelspec": {
   "display_name": "Python 3 (ipykernel)",
   "language": "python",
   "name": "python3"
  },
  "language_info": {
   "codemirror_mode": {
    "name": "ipython",
    "version": 3
   },
   "file_extension": ".py",
   "mimetype": "text/x-python",
   "name": "python",
   "nbconvert_exporter": "python",
   "pygments_lexer": "ipython3",
   "version": "3.10.4"
  }
 },
 "nbformat": 4,
 "nbformat_minor": 5
}
